{
 "cells": [
  {
   "cell_type": "code",
   "execution_count": 16,
   "id": "e431cbd7-a02b-4d6d-84b7-972f1a38e6fd",
   "metadata": {},
   "outputs": [
    {
     "name": "stderr",
     "output_type": "stream",
     "text": [
      "[*********************100%***********************]  1 of 1 completed\n",
      "[*********************100%***********************]  1 of 1 completed\n"
     ]
    },
    {
     "data": {
      "text/html": [
       "<div>\n",
       "<style scoped>\n",
       "    .dataframe tbody tr th:only-of-type {\n",
       "        vertical-align: middle;\n",
       "    }\n",
       "\n",
       "    .dataframe tbody tr th {\n",
       "        vertical-align: top;\n",
       "    }\n",
       "\n",
       "    .dataframe thead tr th {\n",
       "        text-align: left;\n",
       "    }\n",
       "\n",
       "    .dataframe thead tr:last-of-type th {\n",
       "        text-align: right;\n",
       "    }\n",
       "</style>\n",
       "<table border=\"1\" class=\"dataframe\">\n",
       "  <thead>\n",
       "    <tr>\n",
       "      <th></th>\n",
       "      <th>^NSEI</th>\n",
       "      <th>ADANIPORTS.NS</th>\n",
       "    </tr>\n",
       "    <tr>\n",
       "      <th>Ticker</th>\n",
       "      <th>^NSEI</th>\n",
       "      <th>ADANIPORTS.NS</th>\n",
       "    </tr>\n",
       "    <tr>\n",
       "      <th>Date</th>\n",
       "      <th></th>\n",
       "      <th></th>\n",
       "    </tr>\n",
       "  </thead>\n",
       "  <tbody>\n",
       "    <tr>\n",
       "      <th>2018-01-01</th>\n",
       "      <td>NaN</td>\n",
       "      <td>399.649994</td>\n",
       "    </tr>\n",
       "    <tr>\n",
       "      <th>2018-01-02</th>\n",
       "      <td>10442.200195</td>\n",
       "      <td>397.399994</td>\n",
       "    </tr>\n",
       "    <tr>\n",
       "      <th>2018-01-03</th>\n",
       "      <td>10443.200195</td>\n",
       "      <td>407.649994</td>\n",
       "    </tr>\n",
       "    <tr>\n",
       "      <th>2018-01-04</th>\n",
       "      <td>10504.799805</td>\n",
       "      <td>409.850006</td>\n",
       "    </tr>\n",
       "    <tr>\n",
       "      <th>2018-01-05</th>\n",
       "      <td>10558.849609</td>\n",
       "      <td>423.799988</td>\n",
       "    </tr>\n",
       "  </tbody>\n",
       "</table>\n",
       "</div>"
      ],
      "text/plain": [
       "                   ^NSEI ADANIPORTS.NS\n",
       "Ticker             ^NSEI ADANIPORTS.NS\n",
       "Date                                  \n",
       "2018-01-01           NaN    399.649994\n",
       "2018-01-02  10442.200195    397.399994\n",
       "2018-01-03  10443.200195    407.649994\n",
       "2018-01-04  10504.799805    409.850006\n",
       "2018-01-05  10558.849609    423.799988"
      ]
     },
     "execution_count": 16,
     "metadata": {},
     "output_type": "execute_result"
    }
   ],
   "source": [
    "import pandas as pd\n",
    "import numpy as np\n",
    "import yfinance as yf\n",
    "import datetime as dt\n",
    "import random\n",
    "ticker=['^NSEI',\"ADANIPORTS.NS\"]\n",
    "start = dt.datetime(2018, 1, 1)\n",
    "end = dt.datetime(2024, 1, 1)\n",
    "\n",
    "data = {}\n",
    "\n",
    "for i in ticker:\n",
    "    data[i] = yf.download(i,start,end)['Close']\n",
    "\n",
    "df = pd.concat(data,axis=1)\n",
    "df.head()\n"
   ]
  },
  {
   "cell_type": "code",
   "execution_count": 17,
   "id": "1086e356-1784-4f06-8c09-b97b601d740b",
   "metadata": {},
   "outputs": [
    {
     "data": {
      "text/html": [
       "<div>\n",
       "<style scoped>\n",
       "    .dataframe tbody tr th:only-of-type {\n",
       "        vertical-align: middle;\n",
       "    }\n",
       "\n",
       "    .dataframe tbody tr th {\n",
       "        vertical-align: top;\n",
       "    }\n",
       "\n",
       "    .dataframe thead tr th {\n",
       "        text-align: left;\n",
       "    }\n",
       "</style>\n",
       "<table border=\"1\" class=\"dataframe\">\n",
       "  <thead>\n",
       "    <tr>\n",
       "      <th></th>\n",
       "      <th>^NSEI</th>\n",
       "      <th>ADANIPORTS.NS</th>\n",
       "    </tr>\n",
       "    <tr>\n",
       "      <th>Ticker</th>\n",
       "      <th>^NSEI</th>\n",
       "      <th>ADANIPORTS.NS</th>\n",
       "    </tr>\n",
       "  </thead>\n",
       "  <tbody>\n",
       "    <tr>\n",
       "      <th>count</th>\n",
       "      <td>1477.000000</td>\n",
       "      <td>1481.000000</td>\n",
       "    </tr>\n",
       "    <tr>\n",
       "      <th>mean</th>\n",
       "      <td>14258.871270</td>\n",
       "      <td>560.348177</td>\n",
       "    </tr>\n",
       "    <tr>\n",
       "      <th>std</th>\n",
       "      <td>3401.334111</td>\n",
       "      <td>205.484952</td>\n",
       "    </tr>\n",
       "    <tr>\n",
       "      <th>min</th>\n",
       "      <td>7610.250000</td>\n",
       "      <td>207.800003</td>\n",
       "    </tr>\n",
       "    <tr>\n",
       "      <th>25%</th>\n",
       "      <td>11073.450195</td>\n",
       "      <td>370.850006</td>\n",
       "    </tr>\n",
       "    <tr>\n",
       "      <th>50%</th>\n",
       "      <td>13981.950195</td>\n",
       "      <td>485.399994</td>\n",
       "    </tr>\n",
       "    <tr>\n",
       "      <th>75%</th>\n",
       "      <td>17530.849609</td>\n",
       "      <td>744.200012</td>\n",
       "    </tr>\n",
       "    <tr>\n",
       "      <th>max</th>\n",
       "      <td>21778.699219</td>\n",
       "      <td>1094.300049</td>\n",
       "    </tr>\n",
       "  </tbody>\n",
       "</table>\n",
       "</div>"
      ],
      "text/plain": [
       "               ^NSEI ADANIPORTS.NS\n",
       "Ticker         ^NSEI ADANIPORTS.NS\n",
       "count    1477.000000   1481.000000\n",
       "mean    14258.871270    560.348177\n",
       "std      3401.334111    205.484952\n",
       "min      7610.250000    207.800003\n",
       "25%     11073.450195    370.850006\n",
       "50%     13981.950195    485.399994\n",
       "75%     17530.849609    744.200012\n",
       "max     21778.699219   1094.300049"
      ]
     },
     "execution_count": 17,
     "metadata": {},
     "output_type": "execute_result"
    }
   ],
   "source": [
    "df.describe()"
   ]
  },
  {
   "cell_type": "code",
   "execution_count": 18,
   "id": "5a745b47-6355-4c42-8ab1-1270e85cfe36",
   "metadata": {},
   "outputs": [
    {
     "data": {
      "text/plain": [
       "               Ticker       \n",
       "^NSEI          ^NSEI            4\n",
       "ADANIPORTS.NS  ADANIPORTS.NS    0\n",
       "dtype: int64"
      ]
     },
     "execution_count": 18,
     "metadata": {},
     "output_type": "execute_result"
    }
   ],
   "source": [
    "df.isna().sum()  # sum of null values "
   ]
  },
  {
   "cell_type": "code",
   "execution_count": 19,
   "id": "2a90e1e2-049f-47c0-aae2-e44cad62fd9b",
   "metadata": {},
   "outputs": [
    {
     "name": "stdout",
     "output_type": "stream",
     "text": [
      "<class 'pandas.core.frame.DataFrame'>\n",
      "DatetimeIndex: 1481 entries, 2018-01-01 to 2023-12-29\n",
      "Data columns (total 2 columns):\n",
      " #   Column                          Non-Null Count  Dtype  \n",
      "---  ------                          --------------  -----  \n",
      " 0   (^NSEI, ^NSEI)                  1477 non-null   float64\n",
      " 1   (ADANIPORTS.NS, ADANIPORTS.NS)  1481 non-null   float64\n",
      "dtypes: float64(2)\n",
      "memory usage: 34.7 KB\n"
     ]
    }
   ],
   "source": [
    "df.info()"
   ]
  },
  {
   "cell_type": "markdown",
   "id": "6985253f-20cd-4953-9f3d-865a54dea031",
   "metadata": {},
   "source": [
    "DATA CLEANNING "
   ]
  },
  {
   "cell_type": "code",
   "execution_count": 20,
   "id": "3c554170-d341-4c20-95f2-ec84546cdf4e",
   "metadata": {},
   "outputs": [
    {
     "data": {
      "text/plain": [
       "               Ticker       \n",
       "^NSEI          ^NSEI             True\n",
       "ADANIPORTS.NS  ADANIPORTS.NS    False\n",
       "dtype: bool"
      ]
     },
     "execution_count": 20,
     "metadata": {},
     "output_type": "execute_result"
    }
   ],
   "source": [
    "df.isna().any() #checking null values"
   ]
  },
  {
   "cell_type": "code",
   "execution_count": 21,
   "id": "fae4e874-7f5a-44cf-a0fe-fef8837818ce",
   "metadata": {},
   "outputs": [
    {
     "data": {
      "text/plain": [
       "               Ticker       \n",
       "^NSEI          ^NSEI            False\n",
       "ADANIPORTS.NS  ADANIPORTS.NS    False\n",
       "dtype: bool"
      ]
     },
     "execution_count": 21,
     "metadata": {},
     "output_type": "execute_result"
    }
   ],
   "source": [
    "missing_values= df.dropna()\n",
    "missing_values.isna().any()# dropping null values "
   ]
  },
  {
   "cell_type": "code",
   "execution_count": 22,
   "id": "6ffb5d94-f065-4d53-b902-c12c081c7b12",
   "metadata": {},
   "outputs": [
    {
     "data": {
      "text/plain": [
       "np.False_"
      ]
     },
     "execution_count": 22,
     "metadata": {},
     "output_type": "execute_result"
    }
   ],
   "source": [
    "missing_values=df.isnull().sum() # Checking for missing values in the dataset\n",
    "missing_values.isna().any()  # Display missing values "
   ]
  },
  {
   "cell_type": "code",
   "execution_count": 23,
   "id": "5d359d85-9a7c-439d-b590-c3ba494e1a27",
   "metadata": {},
   "outputs": [
    {
     "name": "stdout",
     "output_type": "stream",
     "text": [
      "missing values:-                    ^NSEI ADANIPORTS.NS\n",
      "Ticker             ^NSEI ADANIPORTS.NS\n",
      "Date                                  \n",
      "2018-01-02  10442.200195    397.399994\n",
      "2018-01-03  10443.200195    407.649994\n",
      "2018-01-04  10504.799805    409.850006\n",
      "2018-01-05  10558.849609    423.799988\n",
      "2018-01-08  10623.599609    422.899994\n",
      "...                  ...           ...\n",
      "2023-12-22  21349.400391   1027.500000\n",
      "2023-12-26  21441.349609   1028.750000\n",
      "2023-12-27  21654.750000   1024.400024\n",
      "2023-12-28  21778.699219   1016.950012\n",
      "2023-12-29  21731.400391   1024.349976\n",
      "\n",
      "[1477 rows x 2 columns]\n"
     ]
    }
   ],
   "source": [
    "missing_values = df.dropna()\n",
    "print(\"missing values:-\",missing_values)\n"
   ]
  },
  {
   "cell_type": "markdown",
   "id": "d5fe2296-a48d-493a-aa0c-39dd8f8f7e4d",
   "metadata": {},
   "source": [
    "DESCRIPTIVE STARISTICS\n",
    "MEAN "
   ]
  },
  {
   "cell_type": "code",
   "execution_count": 24,
   "id": "932c2747-d4f4-4117-9156-81c8e3f6a8ec",
   "metadata": {},
   "outputs": [
    {
     "data": {
      "text/html": [
       "<div>\n",
       "<style scoped>\n",
       "    .dataframe tbody tr th:only-of-type {\n",
       "        vertical-align: middle;\n",
       "    }\n",
       "\n",
       "    .dataframe tbody tr th {\n",
       "        vertical-align: top;\n",
       "    }\n",
       "\n",
       "    .dataframe thead tr th {\n",
       "        text-align: left;\n",
       "    }\n",
       "</style>\n",
       "<table border=\"1\" class=\"dataframe\">\n",
       "  <thead>\n",
       "    <tr>\n",
       "      <th></th>\n",
       "      <th>^NSEI</th>\n",
       "      <th>ADANIPORTS.NS</th>\n",
       "    </tr>\n",
       "    <tr>\n",
       "      <th>Ticker</th>\n",
       "      <th>^NSEI</th>\n",
       "      <th>ADANIPORTS.NS</th>\n",
       "    </tr>\n",
       "  </thead>\n",
       "  <tbody>\n",
       "    <tr>\n",
       "      <th>count</th>\n",
       "      <td>1477.000000</td>\n",
       "      <td>1477.000000</td>\n",
       "    </tr>\n",
       "    <tr>\n",
       "      <th>mean</th>\n",
       "      <td>14258.871270</td>\n",
       "      <td>560.813202</td>\n",
       "    </tr>\n",
       "    <tr>\n",
       "      <th>std</th>\n",
       "      <td>3401.334111</td>\n",
       "      <td>205.567173</td>\n",
       "    </tr>\n",
       "    <tr>\n",
       "      <th>min</th>\n",
       "      <td>7610.250000</td>\n",
       "      <td>207.800003</td>\n",
       "    </tr>\n",
       "    <tr>\n",
       "      <th>25%</th>\n",
       "      <td>11073.450195</td>\n",
       "      <td>370.850006</td>\n",
       "    </tr>\n",
       "    <tr>\n",
       "      <th>50%</th>\n",
       "      <td>13981.950195</td>\n",
       "      <td>496.799988</td>\n",
       "    </tr>\n",
       "    <tr>\n",
       "      <th>75%</th>\n",
       "      <td>17530.849609</td>\n",
       "      <td>744.200012</td>\n",
       "    </tr>\n",
       "    <tr>\n",
       "      <th>max</th>\n",
       "      <td>21778.699219</td>\n",
       "      <td>1094.300049</td>\n",
       "    </tr>\n",
       "  </tbody>\n",
       "</table>\n",
       "</div>"
      ],
      "text/plain": [
       "               ^NSEI ADANIPORTS.NS\n",
       "Ticker         ^NSEI ADANIPORTS.NS\n",
       "count    1477.000000   1477.000000\n",
       "mean    14258.871270    560.813202\n",
       "std      3401.334111    205.567173\n",
       "min      7610.250000    207.800003\n",
       "25%     11073.450195    370.850006\n",
       "50%     13981.950195    496.799988\n",
       "75%     17530.849609    744.200012\n",
       "max     21778.699219   1094.300049"
      ]
     },
     "execution_count": 24,
     "metadata": {},
     "output_type": "execute_result"
    }
   ],
   "source": [
    "missing_values.describe()"
   ]
  },
  {
   "cell_type": "markdown",
   "id": "474a1df2-5e1d-47ea-bc20-e624fe427315",
   "metadata": {},
   "source": [
    "MEDIAN"
   ]
  },
  {
   "cell_type": "code",
   "execution_count": 25,
   "id": "094a14ed-2dac-4f78-b4e6-b433cde39bd1",
   "metadata": {},
   "outputs": [
    {
     "data": {
      "text/plain": [
       "               Ticker       \n",
       "^NSEI          ^NSEI            13981.950195\n",
       "ADANIPORTS.NS  ADANIPORTS.NS      496.799988\n",
       "dtype: float64"
      ]
     },
     "execution_count": 25,
     "metadata": {},
     "output_type": "execute_result"
    }
   ],
   "source": [
    "missing_values.median()\n"
   ]
  },
  {
   "cell_type": "markdown",
   "id": "3c44537f-4223-481b-8d70-70cb0fb7a6fc",
   "metadata": {},
   "source": [
    "MODE "
   ]
  },
  {
   "cell_type": "code",
   "execution_count": 26,
   "id": "c1b37fc4-cff9-489d-85da-5030d884f138",
   "metadata": {},
   "outputs": [
    {
     "data": {
      "text/plain": [
       "               Ticker       \n",
       "^NSEI          ^NSEI            10607.349609\n",
       "ADANIPORTS.NS  ADANIPORTS.NS      361.100006\n",
       "Name: 0, dtype: float64"
      ]
     },
     "execution_count": 26,
     "metadata": {},
     "output_type": "execute_result"
    }
   ],
   "source": [
    "missing_values.mode().iloc[0]"
   ]
  },
  {
   "cell_type": "markdown",
   "id": "64ef4fb2-d943-4dd6-8cd4-3ffe0169c250",
   "metadata": {},
   "source": [
    "z-score of Entre data"
   ]
  },
  {
   "cell_type": "code",
   "execution_count": 27,
   "id": "88e959a9-5bed-4849-ab52-3b8119c09b13",
   "metadata": {},
   "outputs": [
    {
     "name": "stdout",
     "output_type": "stream",
     "text": [
      "Z-Scores for ^NSEI:\n",
      " Ticker         ^NSEI\n",
      "Date                \n",
      "2018-01-02 -1.122110\n",
      "2018-01-03 -1.121816\n",
      "2018-01-04 -1.103706\n",
      "2018-01-05 -1.087815\n",
      "2018-01-08 -1.068778\n",
      "...              ...\n",
      "2023-12-22  2.084632\n",
      "2023-12-26  2.111665\n",
      "2023-12-27  2.174405\n",
      "2023-12-28  2.210847\n",
      "2023-12-29  2.196941\n",
      "\n",
      "[1477 rows x 1 columns]\n",
      "Z-Scores for ADANIPORTS.NS:\n",
      " Ticker      ADANIPORTS.NS\n",
      "Date                     \n",
      "2018-01-02      -0.794938\n",
      "2018-01-03      -0.745076\n",
      "2018-01-04      -0.734374\n",
      "2018-01-05      -0.666513\n",
      "2018-01-08      -0.670891\n",
      "...                   ...\n",
      "2023-12-22       2.270240\n",
      "2023-12-26       2.276321\n",
      "2023-12-27       2.255160\n",
      "2023-12-28       2.218919\n",
      "2023-12-29       2.254916\n",
      "\n",
      "[1477 rows x 1 columns]\n"
     ]
    }
   ],
   "source": [
    "# Extract mean and std as scalars for each column\n",
    "mean1 = missing_values['^NSEI'].mean()\n",
    "\n",
    "\n",
    "mean2 = missing_values['ADANIPORTS.NS'].mean()\n",
    "\n",
    "\n",
    "std1 = missing_values['^NSEI'].std()\n",
    "\n",
    "\n",
    "std2 = missing_values['ADANIPORTS.NS'].std()\n",
    "\n",
    "\n",
    "# Formula for z-score\n",
    "zscore1 = (missing_values['^NSEI'] - mean1) / std1\n",
    "zscore2 = (missing_values['ADANIPORTS.NS'] - mean2) / std2\n",
    "\n",
    "# Print the z-scores of the columns\n",
    "print(\"Z-Scores for ^NSEI:\\n\", zscore1)\n",
    "print(\"Z-Scores for ADANIPORTS.NS:\\n\", zscore2)\n",
    "\n"
   ]
  },
  {
   "cell_type": "code",
   "execution_count": 29,
   "id": "411be71a-be21-441c-a9a2-052914afe961",
   "metadata": {},
   "outputs": [
    {
     "name": "stdout",
     "output_type": "stream",
     "text": [
      "Z-Scores for ^NSEI:\n",
      " Ticker         ^NSEI\n",
      "Date                \n",
      "2023-02-09  1.542086\n",
      "2020-03-06 -0.715474\n",
      "2019-05-16 -0.627954\n",
      "2021-05-14  0.490591\n",
      "2018-01-25 -0.689249\n",
      "Z-Scores for ADANIPORTS.NS:\n",
      " Ticker      ADANIPORTS.NS\n",
      "Date                     \n",
      "2023-02-09       0.546263\n",
      "2020-03-06      -0.928188\n",
      "2019-05-16      -0.743958\n",
      "2021-05-14       1.472003\n",
      "2018-01-25      -0.346120\n"
     ]
    }
   ],
   "source": [
    "# Randomly sample 5 indices\n",
    "sample = random.sample(range(len(df)), 5)\n",
    "\n",
    "# Fetch data for the selected samples\n",
    "nseidata = df['^NSEI'].iloc[sample]\n",
    "adanidata = df['ADANIPORTS.NS'].iloc[sample]\n",
    "\n",
    "# Calculate mean and standard deviation for z-score\n",
    "nseimean = nseidata.mean()\n",
    "nseisd = nseidata.std()\n",
    "adanimean = adanidata.mean()\n",
    "adanisd = adanidata.std()\n",
    "\n",
    "zscore1 = (nseidata - nseimean) / nseisd\n",
    "zscore2 = (adanidata - adanimean) / adanisd\n",
    "\n",
    "print(\"Z-Scores for ^NSEI:\\n\", zscore1)\n",
    "print(\"Z-Scores for ADANIPORTS.NS:\\n\", zscore2)\n"
   ]
  },
  {
   "cell_type": "code",
   "execution_count": 54,
   "id": "7de52425-7218-41b4-84af-b83d407161e9",
   "metadata": {},
   "outputs": [
    {
     "name": "stdout",
     "output_type": "stream",
     "text": [
      "Sorted Combined Z-Scores (by ^NSEI Z-Score)\n",
      "   ^NSEI Z-Score  ADANIPORTS.NS Z-Score\n",
      "1       1.063382               0.045993\n",
      "0       0.583242               0.755196\n",
      "4       0.481166              -1.713289\n",
      "3      -0.933928               0.651294\n",
      "2      -1.193861               0.260805\n",
      "Interpretation of Z-Scores:\n",
      "Interpretation:  | ^NSEI Z-Score is greater than the mean | ADANIPORTS.NS Z-Score is greater than the mean\n",
      "Interpretation:  | ^NSEI Z-Score is greater than the mean | ADANIPORTS.NS Z-Score is greater than the mean\n",
      "Interpretation:  | ^NSEI Z-Score is greater than the mean | ADANIPORTS.NS Z-Score is less than the mean\n",
      "Interpretation:  | ^NSEI Z-Score is less than the mean | ADANIPORTS.NS Z-Score is greater than the mean\n",
      "Interpretation:  | ^NSEI Z-Score is less than the mean | ADANIPORTS.NS Z-Score is greater than the mean\n"
     ]
    }
   ],
   "source": [
    "import pandas as pd \n",
    "\n",
    "\n",
    "# Assuming zscore1 and zscore2 are already calculated for '^NSEI' and 'ADANIPORTS.NS' respectively\n",
    "# Sample 5 random points from zscore1 and zscore2\n",
    "zscore1_sample = zscore1.sample(n=5, random_state=70).reset_index(drop=True)\n",
    "zscore1_sample.name = '^NSEI Z-Score'\n",
    "\n",
    "zscore2_sample = zscore2.sample(n=5, random_state=70).reset_index(drop=True)\n",
    "zscore2_sample.name = 'ADANIPORTS.NS Z-Score'\n",
    "\n",
    "# Combine the two z-scores into a DataFrame\n",
    "combined_zscores = pd.DataFrame({\n",
    "    '^NSEI Z-Score': zscore1_sample,\n",
    "    'ADANIPORTS.NS Z-Score': zscore2_sample\n",
    "})\n",
    "\n",
    "# Sort combined z-scores by one of the columns (e.g., by ^NSEI Z-Score)\n",
    "combined_zscores = combined_zscores.sort_values(by='^NSEI Z-Score', ascending=False)\n",
    "\n",
    "# Print sorted combined z-scores\n",
    "print(\"Sorted Combined Z-Scores (by ^NSEI Z-Score)\")\n",
    "print(combined_zscores)\n",
    "\n",
    "# Interpretation: Check if z-scores are within reasonable bounds (abs < 2 is normal)\n",
    "print(\"Interpretation of Z-Scores:\")\n",
    "# Loop through each row in the sorted data\n",
    "for _, row in combined_zscores.iterrows():\n",
    "    interpretation = \"\"  # Initialize interpretation for each row\n",
    "\n",
    "    # Interpret ^NSEI Z-Score\n",
    "    if row['^NSEI Z-Score'] > 0:\n",
    "        interpretation += \" | ^NSEI Z-Score is greater than the mean\"\n",
    "    elif row['^NSEI Z-Score'] < 0:\n",
    "        interpretation += \" | ^NSEI Z-Score is less than the mean\"\n",
    "    else:\n",
    "        interpretation += \" | ^NSEI Z-Score is equal to the mean\"\n",
    "\n",
    "    # Interpret ADANIPORTS.NS Z-Score\n",
    "    if row['ADANIPORTS.NS Z-Score'] > 0:\n",
    "        interpretation += \" | ADANIPORTS.NS Z-Score is greater than the mean\"\n",
    "    elif row['ADANIPORTS.NS Z-Score'] < 0:\n",
    "        interpretation += \" | ADANIPORTS.NS Z-Score is less than the mean\"\n",
    "    else:\n",
    "        interpretation += \" | ADANIPORTS.NS Z-Score is equal to the mean\"\n",
    "\n",
    "    # Print the interpretation for each row\n",
    "    print(f\"Interpretation: {interpretation}\") "
   ]
  },
  {
   "cell_type": "code",
   "execution_count": null,
   "id": "d3ddebaf-bb2d-4d46-b16f-cb56a86d6469",
   "metadata": {},
   "outputs": [],
   "source": []
  }
 ],
 "metadata": {
  "kernelspec": {
   "display_name": "Python 3 (ipykernel)",
   "language": "python",
   "name": "python3"
  },
  "language_info": {
   "codemirror_mode": {
    "name": "ipython",
    "version": 3
   },
   "file_extension": ".py",
   "mimetype": "text/x-python",
   "name": "python",
   "nbconvert_exporter": "python",
   "pygments_lexer": "ipython3",
   "version": "3.12.4"
  }
 },
 "nbformat": 4,
 "nbformat_minor": 5
}
